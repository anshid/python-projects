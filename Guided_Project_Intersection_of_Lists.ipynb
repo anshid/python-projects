{
  "nbformat": 4,
  "nbformat_minor": 0,
  "metadata": {
    "kernelspec": {
      "display_name": "Python 3",
      "language": "python",
      "name": "python3"
    },
    "language_info": {
      "codemirror_mode": {
        "name": "ipython",
        "version": 3
      },
      "file_extension": ".py",
      "mimetype": "text/x-python",
      "name": "python",
      "nbconvert_exporter": "python",
      "pygments_lexer": "ipython3",
      "version": "3.7.1"
    },
    "colab": {
      "provenance": [],
      "include_colab_link": true
    }
  },
  "cells": [
    {
      "cell_type": "markdown",
      "metadata": {
        "id": "view-in-github",
        "colab_type": "text"
      },
      "source": [
        "<a href=\"https://colab.research.google.com/github/anshid/python-projects/blob/main/Guided_Project_Intersection_of_Lists.ipynb\" target=\"_parent\"><img src=\"https://colab.research.google.com/assets/colab-badge.svg\" alt=\"Open In Colab\"/></a>"
      ]
    },
    {
      "cell_type": "markdown",
      "metadata": {
        "id": "rtBrwN-Aexbo"
      },
      "source": [
        "Given a list of n lists, write a function which returns the intersection of all the n lists. Each list can have any number of elements.\n",
        "\n",
        "Example 1:\n",
        "\n",
        "```\n",
        "input = [[5, 5, 5, 8, 10],\n",
        "      [5, 5, 7, 8],\n",
        "      [5, 5, 8, 9, 11]]\n",
        "```\n",
        "\n",
        "```\n",
        "output = [5, 5, 8]\n",
        "```\n",
        "\n",
        "Example 2:\n",
        "\n",
        "```\n",
        "input = [[5, 6],\n",
        "      [5, 5, 7, 8],\n",
        "      [5, 5, 8, 9]]\n",
        "```\n",
        "\n",
        "\n",
        "```\n",
        "output = [5]\n",
        "```"
      ]
    },
    {
      "cell_type": "code",
      "source": [
        "lsts = [[5, 5],\n",
        "      [5, 5, 7, 8],\n",
        "      [5, 5, 8, 9]]"
      ],
      "metadata": {
        "id": "7F0EOaw7w2H5"
      },
      "execution_count": 1,
      "outputs": []
    },
    {
      "cell_type": "code",
      "source": [
        "def get_intersection_1(lsts):\n",
        "\n",
        "  min_len = len(lsts[0])\n",
        "  for l in lsts:\n",
        "      if len(l)<=min_len:\n",
        "          min_len = len(l)\n",
        "          min_len_list = l\n",
        "\n",
        "  d = {}\n",
        "  for elem in min_len_list:\n",
        "      if elem in d.keys():\n",
        "          d[elem] = d[elem]+1\n",
        "      else:\n",
        "          d[elem] = 1\n",
        "\n",
        "  for key in d.keys():\n",
        "    for l in lsts:\n",
        "      count = 0\n",
        "      for item in l:\n",
        "        if key==item:\n",
        "          count = count + 1\n",
        "\n",
        "      if d[key] > count:\n",
        "        d[key] = count\n",
        "\n",
        "  lst = []\n",
        "  for key, value in d.items():\n",
        "      for v in range(value):\n",
        "          lst.append(key)\n",
        "\n",
        "  return lst"
      ],
      "metadata": {
        "id": "EBx4Dv9Iw7xY"
      },
      "execution_count": 2,
      "outputs": []
    },
    {
      "cell_type": "code",
      "source": [],
      "metadata": {
        "id": "1M5wKhDlw_eI"
      },
      "execution_count": null,
      "outputs": []
    },
    {
      "cell_type": "code",
      "source": [
        "get_intersection_1(lsts)"
      ],
      "metadata": {
        "id": "Q6OnsJMuw8dg",
        "outputId": "595e4d08-6d41-438e-abaf-f923e269a868",
        "colab": {
          "base_uri": "https://localhost:8080/"
        }
      },
      "execution_count": 3,
      "outputs": [
        {
          "output_type": "execute_result",
          "data": {
            "text/plain": [
              "[5, 5]"
            ]
          },
          "metadata": {},
          "execution_count": 3
        }
      ]
    },
    {
      "cell_type": "code",
      "source": [
        "lsts = [[5, 5],\n",
        "      [5, 5, 7, 8],\n",
        "      [5, 5, 8, 9]]\n",
        "\n",
        "def get_intersection_2(lsts):\n",
        "\n",
        "  global_map = {}\n",
        "\n",
        "  for l in lsts:\n",
        "    temp_map = {}\n",
        "    for elem in l:\n",
        "      temp_map[elem] = temp_map.get(elem, 0) + 1\n",
        "\n",
        "    for key in temp_map:\n",
        "      if key not in global_map.keys():\n",
        "        global_map[key] = [1, temp_map[key]]\n",
        "      else:\n",
        "        value = global_map[key]\n",
        "        global_map[key] = [value[0] + 1, min(temp_map[key], value[1])]\n",
        "\n",
        "  answer_list = []\n",
        "  for key, value in global_map.items():\n",
        "    if value[0]==len(lsts):\n",
        "      answer_list += [key] * value[1]\n",
        "\n",
        "  return answer_list\n",
        "\n",
        "get_intersection_2(lsts)"
      ],
      "metadata": {
        "id": "skXL3BtwxAln",
        "outputId": "52d796e4-4326-4c01-83b2-950ac2167e7c",
        "colab": {
          "base_uri": "https://localhost:8080/"
        }
      },
      "execution_count": 4,
      "outputs": [
        {
          "output_type": "execute_result",
          "data": {
            "text/plain": [
              "[5, 5]"
            ]
          },
          "metadata": {},
          "execution_count": 4
        }
      ]
    },
    {
      "cell_type": "code",
      "source": [
        "lsts = [[5, 5],\n",
        "      [5, 5, 7, 8],\n",
        "      [5, 5, 8, 9]]\n",
        "def get_frequency_map(l):\n",
        "  map_ = {}\n",
        "  for elem in l:\n",
        "    map_[elem] = map_.get(elem, 0) + 1\n",
        "  return map_\n",
        "def get_intersection_3(lsts):\n",
        "\n",
        "  global_map = {}\n",
        "\n",
        "  for l in lsts:\n",
        "    temp_map = get_frequency_map(l)\n",
        "\n",
        "    for key in temp_map.keys():\n",
        "      if key not in global_map.keys():\n",
        "        global_map[key] = [1, temp_map[key]]\n",
        "      else:\n",
        "        value = global_map[key]\n",
        "        global_map[key] = [value[0] + 1, min(temp_map[key], value[1])]\n",
        "\n",
        "  answer_list = []\n",
        "  for key, value in global_map.items():\n",
        "    if value[0]==len(lsts):\n",
        "      answer_list += [key] * value[1]\n",
        "\n",
        "  return answer_list\n",
        "get_intersection_3(lsts)"
      ],
      "metadata": {
        "id": "m07wAo0OxLRg",
        "outputId": "f5d4e8b8-854b-4a14-bc44-8e12ee8238e3",
        "colab": {
          "base_uri": "https://localhost:8080/"
        }
      },
      "execution_count": 5,
      "outputs": [
        {
          "output_type": "execute_result",
          "data": {
            "text/plain": [
              "[5, 5]"
            ]
          },
          "metadata": {},
          "execution_count": 5
        }
      ]
    }
  ]
}